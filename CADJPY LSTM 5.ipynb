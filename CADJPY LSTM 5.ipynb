{
 "cells": [
  {
   "cell_type": "code",
   "execution_count": 1,
   "id": "e43a801a",
   "metadata": {},
   "outputs": [],
   "source": [
    "import tensorflow as tf\n",
    "from tensorflow.keras.callbacks import CSVLogger, EarlyStopping\n",
    "import matplotlib as mpl\n",
    "import matplotlib.pyplot as plt\n",
    "import numpy as np\n",
    "import os\n",
    "import pandas as pd\n",
    "import seaborn as sns\n",
    "import time\n",
    "import gc\n",
    "import sys\n",
    "from sklearn.preprocessing import MinMaxScaler\n",
    "notebookstart= time.time()"
   ]
  },
  {
   "cell_type": "code",
   "execution_count": 2,
   "id": "ec8e1216",
   "metadata": {},
   "outputs": [],
   "source": [
    "from tensorflow import keras\n",
    "from pylab import rcParams\n",
    "from matplotlib import rc\n",
    "from sklearn.model_selection import train_test_split\n",
    "from pandas.plotting import register_matplotlib_converters\n",
    "import yfinance as yf"
   ]
  },
  {
   "cell_type": "code",
   "execution_count": 3,
   "id": "58655b6c",
   "metadata": {},
   "outputs": [
    {
     "name": "stdout",
     "output_type": "stream",
     "text": [
      "[*********************100%***********************]  3 of 3 completed\n"
     ]
    },
    {
     "data": {
      "text/html": [
       "<div>\n",
       "<style scoped>\n",
       "    .dataframe tbody tr th:only-of-type {\n",
       "        vertical-align: middle;\n",
       "    }\n",
       "\n",
       "    .dataframe tbody tr th {\n",
       "        vertical-align: top;\n",
       "    }\n",
       "\n",
       "    .dataframe thead th {\n",
       "        text-align: right;\n",
       "    }\n",
       "</style>\n",
       "<table border=\"1\" class=\"dataframe\">\n",
       "  <thead>\n",
       "    <tr style=\"text-align: right;\">\n",
       "      <th></th>\n",
       "      <th>CADJPY</th>\n",
       "      <th>Oil</th>\n",
       "      <th>Gas</th>\n",
       "    </tr>\n",
       "    <tr>\n",
       "      <th>Date</th>\n",
       "      <th></th>\n",
       "      <th></th>\n",
       "      <th></th>\n",
       "    </tr>\n",
       "  </thead>\n",
       "  <tbody>\n",
       "    <tr>\n",
       "      <th>2014-12-31</th>\n",
       "      <td>102.910004</td>\n",
       "      <td>53.270000</td>\n",
       "      <td>2.889</td>\n",
       "    </tr>\n",
       "    <tr>\n",
       "      <th>2015-01-02</th>\n",
       "      <td>103.160004</td>\n",
       "      <td>52.689999</td>\n",
       "      <td>3.003</td>\n",
       "    </tr>\n",
       "    <tr>\n",
       "      <th>2015-01-05</th>\n",
       "      <td>102.098000</td>\n",
       "      <td>50.040001</td>\n",
       "      <td>2.882</td>\n",
       "    </tr>\n",
       "    <tr>\n",
       "      <th>2015-01-06</th>\n",
       "      <td>101.543999</td>\n",
       "      <td>47.930000</td>\n",
       "      <td>2.938</td>\n",
       "    </tr>\n",
       "    <tr>\n",
       "      <th>2015-01-07</th>\n",
       "      <td>100.210999</td>\n",
       "      <td>48.650002</td>\n",
       "      <td>2.871</td>\n",
       "    </tr>\n",
       "    <tr>\n",
       "      <th>...</th>\n",
       "      <td>...</td>\n",
       "      <td>...</td>\n",
       "      <td>...</td>\n",
       "    </tr>\n",
       "    <tr>\n",
       "      <th>2022-06-22</th>\n",
       "      <td>105.353996</td>\n",
       "      <td>106.190002</td>\n",
       "      <td>6.858</td>\n",
       "    </tr>\n",
       "    <tr>\n",
       "      <th>2022-06-23</th>\n",
       "      <td>104.918999</td>\n",
       "      <td>104.269997</td>\n",
       "      <td>6.239</td>\n",
       "    </tr>\n",
       "    <tr>\n",
       "      <th>2022-06-24</th>\n",
       "      <td>103.818001</td>\n",
       "      <td>107.620003</td>\n",
       "      <td>6.220</td>\n",
       "    </tr>\n",
       "    <tr>\n",
       "      <th>2022-06-27</th>\n",
       "      <td>104.711998</td>\n",
       "      <td>109.570000</td>\n",
       "      <td>6.501</td>\n",
       "    </tr>\n",
       "    <tr>\n",
       "      <th>2022-06-28</th>\n",
       "      <td>105.800003</td>\n",
       "      <td>110.980003</td>\n",
       "      <td>6.550</td>\n",
       "    </tr>\n",
       "  </tbody>\n",
       "</table>\n",
       "<p>1884 rows × 3 columns</p>\n",
       "</div>"
      ],
      "text/plain": [
       "                CADJPY         Oil    Gas\n",
       "Date                                     \n",
       "2014-12-31  102.910004   53.270000  2.889\n",
       "2015-01-02  103.160004   52.689999  3.003\n",
       "2015-01-05  102.098000   50.040001  2.882\n",
       "2015-01-06  101.543999   47.930000  2.938\n",
       "2015-01-07  100.210999   48.650002  2.871\n",
       "...                ...         ...    ...\n",
       "2022-06-22  105.353996  106.190002  6.858\n",
       "2022-06-23  104.918999  104.269997  6.239\n",
       "2022-06-24  103.818001  107.620003  6.220\n",
       "2022-06-27  104.711998  109.570000  6.501\n",
       "2022-06-28  105.800003  110.980003  6.550\n",
       "\n",
       "[1884 rows x 3 columns]"
      ]
     },
     "execution_count": 3,
     "metadata": {},
     "output_type": "execute_result"
    }
   ],
   "source": [
    "#Load data:\n",
    "tickers_list = ['NG=F', 'CL=F', 'CADJPY=X']\n",
    "df = yf.download(tickers_list,'2015-1-1')['Adj Close']\n",
    "df = df.rename(columns={'NG=F': 'Gas', 'CL=F': 'Oil', 'CADJPY=X': 'CADJPY'}) #To rename variables\n",
    "df = df.dropna() #To drop all rows with a null value.\n",
    "df"
   ]
  },
  {
   "cell_type": "code",
   "execution_count": 6,
   "id": "7a333bfe",
   "metadata": {},
   "outputs": [
    {
     "name": "stdout",
     "output_type": "stream",
     "text": [
      "CADJPY    False\n",
      "Oil       False\n",
      "Gas       False\n",
      "dtype: bool\n"
     ]
    }
   ],
   "source": [
    "# Check for null values\n",
    "print(df.isnull().any())"
   ]
  },
  {
   "cell_type": "code",
   "execution_count": 7,
   "id": "8c5caa0d",
   "metadata": {},
   "outputs": [
    {
     "name": "stdout",
     "output_type": "stream",
     "text": [
      "1507 377\n"
     ]
    }
   ],
   "source": [
    "#split data\n",
    "train_size = int(len(df)*0.80)\n",
    "test_size = len(df)-train_size\n",
    "\n",
    "train,test = df.iloc[0:train_size],df.iloc[train_size:len(df)]\n",
    "print(len(train),len(test))"
   ]
  },
  {
   "cell_type": "code",
   "execution_count": 8,
   "id": "836d1f23",
   "metadata": {},
   "outputs": [
    {
     "name": "stderr",
     "output_type": "stream",
     "text": [
      "C:\\Users\\ams40\\AppData\\Local\\Temp\\ipykernel_3732\\2840614488.py:9: SettingWithCopyWarning: \n",
      "A value is trying to be set on a copy of a slice from a DataFrame\n",
      "\n",
      "See the caveats in the documentation: https://pandas.pydata.org/pandas-docs/stable/user_guide/indexing.html#returning-a-view-versus-a-copy\n",
      "  train.loc[:,F_col] = Rs.transform(train[F_col].to_numpy())\n",
      "C:\\Users\\ams40\\AppData\\Local\\Temp\\ipykernel_3732\\2840614488.py:10: SettingWithCopyWarning: \n",
      "A value is trying to be set on a copy of a slice from a DataFrame.\n",
      "Try using .loc[row_indexer,col_indexer] = value instead\n",
      "\n",
      "See the caveats in the documentation: https://pandas.pydata.org/pandas-docs/stable/user_guide/indexing.html#returning-a-view-versus-a-copy\n",
      "  train['CADJPY'] = Rs_t.transform(train[['CADJPY']])\n",
      "C:\\Users\\ams40\\AppData\\Local\\Temp\\ipykernel_3732\\2840614488.py:13: SettingWithCopyWarning: \n",
      "A value is trying to be set on a copy of a slice from a DataFrame\n",
      "\n",
      "See the caveats in the documentation: https://pandas.pydata.org/pandas-docs/stable/user_guide/indexing.html#returning-a-view-versus-a-copy\n",
      "  test.loc[:,F_col] = Rs.transform(test[F_col].to_numpy())\n",
      "C:\\Users\\ams40\\AppData\\Local\\Temp\\ipykernel_3732\\2840614488.py:14: SettingWithCopyWarning: \n",
      "A value is trying to be set on a copy of a slice from a DataFrame.\n",
      "Try using .loc[row_indexer,col_indexer] = value instead\n",
      "\n",
      "See the caveats in the documentation: https://pandas.pydata.org/pandas-docs/stable/user_guide/indexing.html#returning-a-view-versus-a-copy\n",
      "  test['CADJPY'] = Rs_t.transform(test[['CADJPY']])\n"
     ]
    }
   ],
   "source": [
    "#split data\n",
    "from sklearn.preprocessing import RobustScaler\n",
    "\n",
    "F_col = ['Gas', 'Oil']\n",
    "\n",
    "Rs = MinMaxScaler()\n",
    "Rs_t = MinMaxScaler()\n",
    "Rs = Rs.fit(train[F_col].to_numpy())\n",
    "Rs_t = Rs_t.fit(train[['CADJPY']])\n",
    "train.loc[:,F_col] = Rs.transform(train[F_col].to_numpy())\n",
    "train['CADJPY'] = Rs_t.transform(train[['CADJPY']])\n",
    "\n",
    "\n",
    "test.loc[:,F_col] = Rs.transform(test[F_col].to_numpy())\n",
    "test['CADJPY'] = Rs_t.transform(test[['CADJPY']])"
   ]
  },
  {
   "cell_type": "code",
   "execution_count": 9,
   "id": "e25a9fcc",
   "metadata": {},
   "outputs": [],
   "source": [
    "def create_dataset(X, y, time_steps=1):\n",
    "    Xs, ys = [], []\n",
    "    for i in range(len(X) - time_steps):\n",
    "        v = X.iloc[i:(i + time_steps)].values\n",
    "        Xs.append(v)        \n",
    "        ys.append(y.iloc[i + time_steps])\n",
    "    return np.array(Xs), np.array(ys)"
   ]
  },
  {
   "cell_type": "code",
   "execution_count": 10,
   "id": "838417e4",
   "metadata": {},
   "outputs": [
    {
     "name": "stdout",
     "output_type": "stream",
     "text": [
      "(1497, 10, 3) (367,)\n"
     ]
    }
   ],
   "source": [
    "time_steps = 10\n",
    "\n",
    "# reshape to [samples, time_steps, n_features]\n",
    "\n",
    "X_train, y_train = create_dataset(train, train.CADJPY, time_steps)\n",
    "X_test, y_test = create_dataset(test, test.CADJPY, time_steps)\n",
    "\n",
    "print(X_train.shape, y_test.shape)"
   ]
  },
  {
   "cell_type": "code",
   "execution_count": 11,
   "id": "c33c69f3",
   "metadata": {},
   "outputs": [
    {
     "data": {
      "text/plain": [
       "array([[[0.21004519, 0.75543667, 0.31505218],\n",
       "        [0.21937914, 0.74754469, 0.32757083],\n",
       "        [0.20311178, 0.76780075, 0.36363635],\n",
       "        ...,\n",
       "        [0.23320106, 0.79656258, 0.37883758],\n",
       "        [0.23727668, 0.79393193, 0.37108794],\n",
       "        [0.24184848, 0.79971937, 0.35290609]],\n",
       "\n",
       "       [[0.21937914, 0.74754469, 0.32757083],\n",
       "        [0.20311178, 0.76780075, 0.36363635],\n",
       "        [0.21484249, 0.77393896, 0.36780928],\n",
       "        ...,\n",
       "        [0.23727668, 0.79393193, 0.37108794],\n",
       "        [0.24184848, 0.79971937, 0.35290609],\n",
       "        [0.25219721, 0.78910907, 0.37406856]],\n",
       "\n",
       "       [[0.20311178, 0.76780075, 0.36363635],\n",
       "        [0.21484249, 0.77393896, 0.36780928],\n",
       "        [0.22675085, 0.77569273, 0.37168409],\n",
       "        ...,\n",
       "        [0.24184848, 0.79971937, 0.35290609],\n",
       "        [0.25219721, 0.78910907, 0.37406856],\n",
       "        [0.22607108, 0.79454575, 0.31713861]],\n",
       "\n",
       "       ...,\n",
       "\n",
       "       [[1.09395354, 1.38810937, 2.19612537],\n",
       "        [1.07697749, 1.39038929, 2.12429223],\n",
       "        [1.03366873, 1.37285159, 1.70104331],\n",
       "        ...,\n",
       "        [1.03154236, 1.3002455 , 1.58748145],\n",
       "        [1.07775703, 1.26113642, 1.60238449],\n",
       "        [1.06234033, 1.24430017, 1.41788375]],\n",
       "\n",
       "       [[1.07697749, 1.39038929, 2.12429223],\n",
       "        [1.03366873, 1.37285159, 1.70104331],\n",
       "        [1.04780971, 1.34110832, 1.76989576],\n",
       "        ...,\n",
       "        [1.07775703, 1.26113642, 1.60238449],\n",
       "        [1.06234033, 1.24430017, 1.41788375],\n",
       "        [1.02332   , 1.27367588, 1.41222055]],\n",
       "\n",
       "       [[1.03366873, 1.37285159, 1.70104331],\n",
       "        [1.04780971, 1.34110832, 1.76989576],\n",
       "        [1.03554714, 1.36110129, 1.78301055],\n",
       "        ...,\n",
       "        [1.06234033, 1.24430017, 1.41788375],\n",
       "        [1.02332   , 1.27367588, 1.41222055],\n",
       "        [1.05500405, 1.29077512, 1.49597618]]])"
      ]
     },
     "execution_count": 11,
     "metadata": {},
     "output_type": "execute_result"
    }
   ],
   "source": [
    "X_test.view()"
   ]
  },
  {
   "cell_type": "code",
   "execution_count": 12,
   "id": "35161c5b",
   "metadata": {},
   "outputs": [],
   "source": [
    "model = keras.Sequential()\n",
    "model.add(\n",
    "    keras.layers.LSTM(\n",
    "      units=32, \n",
    "      input_shape=(X_train.shape[1], X_train.shape[2]), return_sequences = False\n",
    "    )\n",
    "  )\n",
    "\n",
    "model.add(keras.layers.Dropout(rate=0.2))\n",
    "model.add(keras.layers.Dense(units=1,kernel_regularizer='l1'))\n",
    "model.compile(loss='mean_squared_error', optimizer='SGD', metrics = ['mse'])"
   ]
  },
  {
   "cell_type": "code",
   "execution_count": 13,
   "id": "fb8c549d",
   "metadata": {},
   "outputs": [
    {
     "name": "stdout",
     "output_type": "stream",
     "text": [
      "Epoch 1/20\n",
      "86/86 [==============================] - 10s 22ms/step - loss: 0.1162 - mse: 0.0419 - val_loss: 0.0812 - val_mse: 0.0086\n",
      "Epoch 2/20\n",
      "86/86 [==============================] - 1s 9ms/step - loss: 0.0932 - mse: 0.0220 - val_loss: 0.0772 - val_mse: 0.0077\n",
      "Epoch 3/20\n",
      "86/86 [==============================] - 1s 9ms/step - loss: 0.0869 - mse: 0.0187 - val_loss: 0.0731 - val_mse: 0.0065\n",
      "Epoch 4/20\n",
      "86/86 [==============================] - 1s 8ms/step - loss: 0.0819 - mse: 0.0165 - val_loss: 0.0692 - val_mse: 0.0052\n",
      "Epoch 5/20\n",
      "86/86 [==============================] - 1s 9ms/step - loss: 0.0764 - mse: 0.0135 - val_loss: 0.0657 - val_mse: 0.0043\n",
      "Epoch 6/20\n",
      "86/86 [==============================] - 1s 9ms/step - loss: 0.0725 - mse: 0.0121 - val_loss: 0.0634 - val_mse: 0.0044\n",
      "Epoch 7/20\n",
      "86/86 [==============================] - 1s 9ms/step - loss: 0.0692 - mse: 0.0112 - val_loss: 0.0604 - val_mse: 0.0038\n",
      "Epoch 8/20\n",
      "86/86 [==============================] - 1s 9ms/step - loss: 0.0651 - mse: 0.0094 - val_loss: 0.0576 - val_mse: 0.0032\n",
      "Epoch 9/20\n",
      "86/86 [==============================] - 1s 9ms/step - loss: 0.0626 - mse: 0.0092 - val_loss: 0.0552 - val_mse: 0.0031\n",
      "Epoch 10/20\n",
      "86/86 [==============================] - 1s 10ms/step - loss: 0.0594 - mse: 0.0082 - val_loss: 0.0525 - val_mse: 0.0027\n",
      "Epoch 11/20\n",
      "86/86 [==============================] - 1s 10ms/step - loss: 0.0565 - mse: 0.0075 - val_loss: 0.0501 - val_mse: 0.0024\n",
      "Epoch 12/20\n",
      "86/86 [==============================] - 1s 10ms/step - loss: 0.0538 - mse: 0.0068 - val_loss: 0.0482 - val_mse: 0.0025\n",
      "Epoch 13/20\n",
      "86/86 [==============================] - 1s 10ms/step - loss: 0.0517 - mse: 0.0067 - val_loss: 0.0463 - val_mse: 0.0025\n",
      "Epoch 14/20\n",
      "86/86 [==============================] - 1s 10ms/step - loss: 0.0495 - mse: 0.0063 - val_loss: 0.0443 - val_mse: 0.0023\n",
      "Epoch 15/20\n",
      "86/86 [==============================] - 1s 10ms/step - loss: 0.0469 - mse: 0.0055 - val_loss: 0.0426 - val_mse: 0.0023\n",
      "Epoch 16/20\n",
      "86/86 [==============================] - 1s 11ms/step - loss: 0.0451 - mse: 0.0054 - val_loss: 0.0411 - val_mse: 0.0024\n",
      "Epoch 17/20\n",
      "86/86 [==============================] - 1s 10ms/step - loss: 0.0436 - mse: 0.0054 - val_loss: 0.0395 - val_mse: 0.0023\n",
      "Epoch 18/20\n",
      "86/86 [==============================] - 1s 10ms/step - loss: 0.0422 - mse: 0.0055 - val_loss: 0.0381 - val_mse: 0.0024\n",
      "Epoch 19/20\n",
      "86/86 [==============================] - 1s 10ms/step - loss: 0.0404 - mse: 0.0052 - val_loss: 0.0367 - val_mse: 0.0025\n",
      "Epoch 20/20\n",
      "86/86 [==============================] - 1s 10ms/step - loss: 0.0391 - mse: 0.0053 - val_loss: 0.0354 - val_mse: 0.0026\n"
     ]
    }
   ],
   "source": [
    "early_stopping = EarlyStopping(monitor='val_loss', patience = 3, restore_best_weights=True)\n",
    "history = model.fit(\n",
    "    X_train, y_train, \n",
    "    epochs=20, \n",
    "    batch_size=14,\n",
    "    #steps_per_epoch = 12,\n",
    "    callbacks = early_stopping,\n",
    "    validation_split= 0.2,\n",
    "    shuffle=False\n",
    ")"
   ]
  },
  {
   "cell_type": "code",
   "execution_count": 14,
   "id": "1328db7a",
   "metadata": {},
   "outputs": [
    {
     "name": "stdout",
     "output_type": "stream",
     "text": [
      "dict_keys(['loss', 'mse', 'val_loss', 'val_mse'])\n"
     ]
    }
   ],
   "source": [
    "print(history.history.keys())"
   ]
  },
  {
   "cell_type": "code",
   "execution_count": 15,
   "id": "ec289935",
   "metadata": {},
   "outputs": [
    {
     "name": "stdout",
     "output_type": "stream",
     "text": [
      "Model: \"sequential\"\n",
      "_________________________________________________________________\n",
      " Layer (type)                Output Shape              Param #   \n",
      "=================================================================\n",
      " lstm (LSTM)                 (None, 32)                4608      \n",
      "                                                                 \n",
      " dropout (Dropout)           (None, 32)                0         \n",
      "                                                                 \n",
      " dense (Dense)               (None, 1)                 33        \n",
      "                                                                 \n",
      "=================================================================\n",
      "Total params: 4,641\n",
      "Trainable params: 4,641\n",
      "Non-trainable params: 0\n",
      "_________________________________________________________________\n"
     ]
    }
   ],
   "source": [
    "model.summary()"
   ]
  },
  {
   "cell_type": "code",
   "execution_count": 16,
   "id": "4dfd2564",
   "metadata": {},
   "outputs": [
    {
     "data": {
      "image/png": "[encoded data removed]",
      "text/plain": [
       "<Figure size 432x288 with 1 Axes>"
      ]
     },
     "metadata": {
      "needs_background": "light"
     },
     "output_type": "display_data"
    }
   ],
   "source": [
    "# plot performance\n",
    "plt.plot(history.history['mse'], label='train')\n",
    "plt.plot(history.history['val_mse'], label='test')\n",
    "plt.legend();"
   ]
  },
  {
   "cell_type": "code",
   "execution_count": 17,
   "id": "20cb5fa7",
   "metadata": {},
   "outputs": [
    {
     "name": "stdout",
     "output_type": "stream",
     "text": [
      "12/12 [==============================] - 1s 4ms/step\n",
      "(367, 1)\n"
     ]
    }
   ],
   "source": [
    "y_pred = model.predict(X_test)\n",
    "print(y_pred.shape)"
   ]
  },
  {
   "cell_type": "code",
   "execution_count": 18,
   "id": "6bea71b3",
   "metadata": {},
   "outputs": [],
   "source": [
    "y_train_inv = Rs_t.inverse_transform(y_train.reshape(1,-1))\n",
    "y_test_inv = Rs_t.inverse_transform(y_test.reshape(1,-1))\n",
    "y_pred_inv = Rs_t.inverse_transform(y_pred)"
   ]
  },
  {
   "cell_type": "code",
   "execution_count": 23,
   "id": "664b2a53",
   "metadata": {},
   "outputs": [
    {
     "data": {
      "image/png": "[encoded data removed]",
      "text/plain": [
       "<Figure size 1152x576 with 1 Axes>"
      ]
     },
     "metadata": {
      "needs_background": "light"
     },
     "output_type": "display_data"
    }
   ],
   "source": [
    "plt.figure(figsize=(16,8))\n",
    "plt.plot(np.arange(0, len(y_train)), y_train_inv.flatten(), 'g', label=\"History\")\n",
    "plt.plot(np.arange(len(y_train), len(y_train) + len(y_test)), y_test_inv.flatten(), label=\"Validation\")\n",
    "plt.plot(np.arange(len(y_train), len(y_train) + len(y_test)), y_pred_inv.flatten(), 'r', label=\"Prediction\")\n",
    "plt.ylabel('CAD/JPY')\n",
    "plt.xlabel('Time Step')\n",
    "plt.legend()\n",
    "plt.show();"
   ]
  }
 ],
 "metadata": {
  "kernelspec": {
   "display_name": "Python 3 (ipykernel)",
   "language": "python",
   "name": "python3"
  },
  "language_info": {
   "codemirror_mode": {
    "name": "ipython",
    "version": 3
   },
   "file_extension": ".py",
   "mimetype": "text/x-python",
   "name": "python",
   "nbconvert_exporter": "python",
   "pygments_lexer": "ipython3",
   "version": "3.9.12"
  }
 },
 "nbformat": 4,
 "nbformat_minor": 5
}
